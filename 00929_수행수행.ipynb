{
  "nbformat": 4,
  "nbformat_minor": 0,
  "metadata": {
    "colab": {
      "provenance": [],
      "authorship_tag": "ABX9TyPhO+6utflAfJggxdGIWbPf",
      "include_colab_link": true
    },
    "kernelspec": {
      "name": "python3",
      "display_name": "Python 3"
    },
    "language_info": {
      "name": "python"
    }
  },
  "cells": [
    {
      "cell_type": "markdown",
      "metadata": {
        "id": "view-in-github",
        "colab_type": "text"
      },
      "source": [
        "<a href=\"https://colab.research.google.com/github/yerinha/yerinha/blob/main/00929_%EC%88%98%ED%96%89%EC%88%98%ED%96%89.ipynb\" target=\"_parent\"><img src=\"https://colab.research.google.com/assets/colab-badge.svg\" alt=\"Open In Colab\"/></a>"
      ]
    },
    {
      "cell_type": "markdown",
      "source": [
        "33333333\n"
      ],
      "metadata": {
        "id": "XhvGAqpf2W0s"
      }
    },
    {
      "cell_type": "code",
      "source": [
        "var1 = input(\"첫 번째 문자열 ==>\")\n",
        "var2 = input(\"두 번째 문자열 ==>\")\n",
        "\n",
        "len1 = len(var1)\n",
        "len2 = len(var2)\n",
        "\n",
        "diff = len1 - len2\n",
        "\n",
        "print(\"두 문자열의 길이 차이는\"), diff, \"입니다.\""
      ],
      "metadata": {
        "colab": {
          "base_uri": "https://localhost:8080/"
        },
        "id": "LB6XvmwwT3vy",
        "outputId": "027b6731-a2ca-4311-d122-20efba692981"
      },
      "execution_count": 2,
      "outputs": [
        {
          "output_type": "stream",
          "name": "stdout",
          "text": [
            "첫 번째 문자열 ==>난생처음 파이썬\n",
            "두 번째 문자열 ==>First Python\n",
            "두 문자열의 길이 차이는\n"
          ]
        },
        {
          "output_type": "execute_result",
          "data": {
            "text/plain": [
              "(None, -4, '입니다.')"
            ]
          },
          "metadata": {},
          "execution_count": 2
        }
      ]
    },
    {
      "cell_type": "markdown",
      "source": [
        "44444444"
      ],
      "metadata": {
        "id": "yF_A0xj12TIg"
      }
    },
    {
      "cell_type": "code",
      "source": [
        "Ans=int(input('파운드(lb)를 입력 : '));\n",
        "print('%d파운드(lb)는 %f킬로그램(kg)입니다'%(Ans,Ans*0.453292));\n",
        "Ans=int(input('킬로그램(kg)를 입력 : '));\n",
        "print('%d킬로그램(kg)는 %f파운드(lb)입니다'%(Ans,Ans*2.204623));"
      ],
      "metadata": {
        "colab": {
          "base_uri": "https://localhost:8080/"
        },
        "id": "XrueLRIKVA-s",
        "outputId": "cea26c06-cba3-4385-8233-bdf85edc6cfe"
      },
      "execution_count": 3,
      "outputs": [
        {
          "output_type": "stream",
          "name": "stdout",
          "text": [
            "파운드(lb)를 입력 : 15\n",
            "15파운드(lb)는 6.799380킬로그램(kg)입니다\n",
            "킬로그램(kg)를 입력 : 15\n",
            "15킬로그램(kg)는 33.069345파운드(lb)입니다\n"
          ]
        }
      ]
    }
  ]
}