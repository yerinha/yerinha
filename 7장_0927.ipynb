{
  "nbformat": 4,
  "nbformat_minor": 0,
  "metadata": {
    "colab": {
      "provenance": [],
      "authorship_tag": "ABX9TyOqRXhY6zlSQaSmvUXKkH2A",
      "include_colab_link": true
    },
    "kernelspec": {
      "name": "python3",
      "display_name": "Python 3"
    },
    "language_info": {
      "name": "python"
    }
  },
  "cells": [
    {
      "cell_type": "markdown",
      "metadata": {
        "id": "view-in-github",
        "colab_type": "text"
      },
      "source": [
        "<a href=\"https://colab.research.google.com/github/yerinha/yerinha/blob/main/7%EC%9E%A5_0927.ipynb\" target=\"_parent\"><img src=\"https://colab.research.google.com/assets/colab-badge.svg\" alt=\"Open In Colab\"/></a>"
      ]
    },
    {
      "cell_type": "code",
      "execution_count": 1,
      "metadata": {
        "colab": {
          "base_uri": "https://localhost:8080/"
        },
        "id": "Z9S5Fv7kVosX",
        "outputId": "21a1755b-e0e7-44f6-bb3b-a8b0a01a143d"
      },
      "outputs": [
        {
          "output_type": "stream",
          "name": "stdout",
          "text": [
            "숫자 : 5\n",
            "숫자 : 2\n",
            "숫자 : 6\n",
            "숫자 : 4\n",
            "합계 ==>  17\n"
          ]
        }
      ],
      "source": [
        "numlist = []\n",
        "for i in range(0, 4) :\n",
        "  numlist.append(0)\n",
        "hap = 0\n",
        "\n",
        "for i in range(0, 4) :\n",
        "  numlist[i] = int(input( \"숫자 : \"))\n",
        "\n",
        "hap = numlist[0] + numlist[1]+ numlist[2] + numlist[3]\n",
        "\n",
        "print(\"합계 ==> \", hap)"
      ]
    },
    {
      "cell_type": "code",
      "source": [
        "score = [0,0,0,0,0]\n",
        "sum, avg = 0,0\n",
        "print(\"김안공 선수 경기가 끝났습니다. ~ 짝짞짝\")\n",
        "\n",
        "for i in range(0,5) : \n",
        "  score[i] = int(input(\"평가 점수 ==> \"))\n",
        "  sum = sum + score[i]\n",
        "avg = sum / 5\n",
        "print(\"심사위원의 평균 점수 ==> \", avg)"
      ],
      "metadata": {
        "colab": {
          "base_uri": "https://localhost:8080/"
        },
        "id": "5GUstb6MarXa",
        "outputId": "a5bf320d-9027-473f-a8f2-bc4e89d67aa2"
      },
      "execution_count": 8,
      "outputs": [
        {
          "output_type": "stream",
          "name": "stdout",
          "text": [
            "김안공 선수 경기가 끝났습니다. ~ 짝짞짝\n",
            "평가 점수 ==> 50\n",
            "평가 점수 ==> 50\n",
            "평가 점수 ==> 60\n",
            "평가 점수 ==> 80\n",
            "평가 점수 ==> 90\n",
            "심사위원의 평균 점수 ==>  66.0\n"
          ]
        }
      ]
    },
    {
      "cell_type": "code",
      "source": [
        "import random         "
      ],
      "metadata": {
        "id": "NAPizF_wja5u"
      },
      "execution_count": null,
      "outputs": []
    }
  ]
}