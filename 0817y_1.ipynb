{
  "nbformat": 4,
  "nbformat_minor": 0,
  "metadata": {
    "colab": {
      "name": "0817y-1.ipynb",
      "provenance": [],
      "authorship_tag": "ABX9TyPsTqwxrDBuMhR7XM9zLjmo",
      "include_colab_link": true
    },
    "kernelspec": {
      "name": "python3",
      "display_name": "Python 3"
    },
    "language_info": {
      "name": "python"
    }
  },
  "cells": [
    {
      "cell_type": "markdown",
      "metadata": {
        "id": "view-in-github",
        "colab_type": "text"
      },
      "source": [
        "<a href=\"https://colab.research.google.com/github/yerinha/yerinha/blob/main/0817y_1.ipynb\" target=\"_parent\"><img src=\"https://colab.research.google.com/assets/colab-badge.svg\" alt=\"Open In Colab\"/></a>"
      ]
    },
    {
      "cell_type": "code",
      "source": [
        ""
      ],
      "metadata": {
        "id": "GO7TGVwqpG6M"
      },
      "execution_count": null,
      "outputs": []
    },
    {
      "cell_type": "code",
      "execution_count": 3,
      "metadata": {
        "colab": {
          "base_uri": "https://localhost:8080/"
        },
        "id": "YTlG9FEIocBL",
        "outputId": "9aa89f22-edb5-4174-b3fe-c07f23a95ab1"
      },
      "outputs": [
        {
          "output_type": "stream",
          "name": "stdout",
          "text": [
            "안산공고 컴퓨터과 3학년 2반 22번 하예린\n"
          ]
        }
      ],
      "source": [
        "print(\"안산공고 컴퓨터과 3학년 2반 22번 하예린\")"
      ]
    },
    {
      "cell_type": "code",
      "source": [
        "print(\"내일은 즐거운 졸업여행\")\n",
        "print(\"준비물 잘 챙기자\")\n",
        "print(\"다치지 말고 재미있게 놀다 오자\")"
      ],
      "metadata": {
        "colab": {
          "base_uri": "https://localhost:8080/"
        },
        "id": "DpmO08pnpItD",
        "outputId": "d2137b71-9d6e-483e-e447-3c13f0609c0f"
      },
      "execution_count": 4,
      "outputs": [
        {
          "output_type": "stream",
          "name": "stdout",
          "text": [
            "내일은 즐거운 졸업여행\n",
            "준비물 잘 챙기자\n",
            "다치지 말고 재미있게 놀다 오자\n"
          ]
        }
      ]
    }
  ]
}