{
  "nbformat": 4,
  "nbformat_minor": 0,
  "metadata": {
    "colab": {
      "name": "0817y-1.ipynb",
      "provenance": [],
      "authorship_tag": "ABX9TyPQrtu2maYuICfHjMiX3cua",
      "include_colab_link": true
    },
    "kernelspec": {
      "name": "python3",
      "display_name": "Python 3"
    },
    "language_info": {
      "name": "python"
    }
  },
  "cells": [
    {
      "cell_type": "markdown",
      "metadata": {
        "id": "view-in-github",
        "colab_type": "text"
      },
      "source": [
        "<a href=\"https://colab.research.google.com/github/yerinha/yerinha/blob/main/0817y_1.ipynb\" target=\"_parent\"><img src=\"https://colab.research.google.com/assets/colab-badge.svg\" alt=\"Open In Colab\"/></a>"
      ]
    },
    {
      "cell_type": "code",
      "source": [
        ""
      ],
      "metadata": {
        "id": "GO7TGVwqpG6M"
      },
      "execution_count": null,
      "outputs": []
    },
    {
      "cell_type": "code",
      "execution_count": 3,
      "metadata": {
        "colab": {
          "base_uri": "https://localhost:8080/"
        },
        "id": "YTlG9FEIocBL",
        "outputId": "9aa89f22-edb5-4174-b3fe-c07f23a95ab1"
      },
      "outputs": [
        {
          "output_type": "stream",
          "name": "stdout",
          "text": [
            "안산공고 컴퓨터과 3학년 2반 22번 하예린\n"
          ]
        }
      ],
      "source": [
        "print(\"안산공고 컴퓨터과 3학년 2반 22번 하예린\")"
      ]
    },
    {
      "cell_type": "code",
      "source": [
        "print(\"내일은 즐거운 졸업여행\")\n",
        "print(\"준비물 잘 챙기자\")\n",
        "print(\"다치지 말고 재미있게 놀다 오자\")"
      ],
      "metadata": {
        "colab": {
          "base_uri": "https://localhost:8080/"
        },
        "id": "DpmO08pnpItD",
        "outputId": "d2137b71-9d6e-483e-e447-3c13f0609c0f"
      },
      "execution_count": 4,
      "outputs": [
        {
          "output_type": "stream",
          "name": "stdout",
          "text": [
            "내일은 즐거운 졸업여행\n",
            "준비물 잘 챙기자\n",
            "다치지 말고 재미있게 놀다 오자\n"
          ]
        }
      ]
    },
    {
      "cell_type": "markdown",
      "source": [
        "변수사용 예)\n"
      ],
      "metadata": {
        "id": "bj2R8o07qRHL"
      }
    },
    {
      "cell_type": "code",
      "source": [
        "a = 100\n",
        "b = 200\n",
        "result = a + b\n",
        "print(a, \"+\", b, \"=\", result)"
      ],
      "metadata": {
        "colab": {
          "base_uri": "https://localhost:8080/"
        },
        "id": "o8PffmEaqUUC",
        "outputId": "e38fdb1e-bc01-40d5-a716-797abc7cc8f4"
      },
      "execution_count": 6,
      "outputs": [
        {
          "output_type": "stream",
          "name": "stdout",
          "text": [
            "100 + 200 = 300\n"
          ]
        }
      ]
    },
    {
      "cell_type": "code",
      "source": [
        "num1 = 100\n",
        "num2 = 200\n",
        "result = num1 + num2\n",
        "print(num1, \"*\", num2, \"=\", result)"
      ],
      "metadata": {
        "colab": {
          "base_uri": "https://localhost:8080/"
        },
        "id": "EtcsvHFaquU2",
        "outputId": "c4bce77c-920f-4449-f97a-4da6e71c3386"
      },
      "execution_count": 8,
      "outputs": [
        {
          "output_type": "stream",
          "name": "stdout",
          "text": [
            "100 * 200 = 300\n"
          ]
        }
      ]
    },
    {
      "cell_type": "code",
      "source": [
        "num1 = 100\n",
        "num2 = 200\n",
        "result = num1 - num2\n",
        "print(num1, \"-\", num2, \"=\", result)"
      ],
      "metadata": {
        "colab": {
          "base_uri": "https://localhost:8080/"
        },
        "id": "hnmF_RkarQUT",
        "outputId": "d48c3b28-49d4-4056-908e-3f28f58a0bad"
      },
      "execution_count": 12,
      "outputs": [
        {
          "output_type": "stream",
          "name": "stdout",
          "text": [
            "100 - 200 = -100\n"
          ]
        }
      ]
    },
    {
      "cell_type": "markdown",
      "source": [
        "몫을 구하는 연산자  ://"
      ],
      "metadata": {
        "id": "R-EVImL1rVuZ"
      }
    },
    {
      "cell_type": "code",
      "source": [
        "num1 = 100\n",
        "num2 = 200\n",
        "result = num1 // num2\n",
        "print(num1, \"//\", num2, \"=\", result)"
      ],
      "metadata": {
        "colab": {
          "base_uri": "https://localhost:8080/"
        },
        "id": "Rv0QsASlrdEZ",
        "outputId": "ba26b7ab-e106-4bc4-d5c4-84d08f1428a2"
      },
      "execution_count": 13,
      "outputs": [
        {
          "output_type": "stream",
          "name": "stdout",
          "text": [
            "100 // 200 = 0\n"
          ]
        }
      ]
    },
    {
      "cell_type": "markdown",
      "source": [
        ""
      ],
      "metadata": {
        "id": "MxPKtdzXsP5H"
      }
    },
    {
      "cell_type": "code",
      "source": [
        "num1 = 100\n",
        "num2 = 200\n",
        "result = num1 % num2\n",
        "print(num1, \"%\", num2, \"=\", result)"
      ],
      "metadata": {
        "colab": {
          "base_uri": "https://localhost:8080/"
        },
        "id": "r6zbxkhZseGP",
        "outputId": "104b16fe-b6fc-48b5-8da3-eb693337047b"
      },
      "execution_count": 15,
      "outputs": [
        {
          "output_type": "stream",
          "name": "stdout",
          "text": [
            "100 % 200 = 100\n"
          ]
        }
      ]
    },
    {
      "cell_type": "code",
      "source": [
        "num1 = 100\n",
        "num2 = 20\n",
        "result = num1 ** num2\n",
        "print(num1, \"**\", num2, \"=\", result)"
      ],
      "metadata": {
        "colab": {
          "base_uri": "https://localhost:8080/"
        },
        "id": "7iTAZLkisqMn",
        "outputId": "93c4adb6-a96d-4d4b-8db2-45a5e91d00f0"
      },
      "execution_count": 17,
      "outputs": [
        {
          "output_type": "stream",
          "name": "stdout",
          "text": [
            "100 ** 20 = 10000000000000000000000000000000000000000\n"
          ]
        }
      ]
    },
    {
      "cell_type": "code",
      "source": [
        "num1 = 100\n",
        "num2 = 200\n",
        "result = num1 / num2\n",
        "print(num1, \"/\", num2, \"=\", result)"
      ],
      "metadata": {
        "colab": {
          "base_uri": "https://localhost:8080/"
        },
        "id": "fDruoiM3s5uH",
        "outputId": "4301c5f1-8c45-47f9-98c5-3057957d92fe"
      },
      "execution_count": 18,
      "outputs": [
        {
          "output_type": "stream",
          "name": "stdout",
          "text": [
            "100 / 200 = 0.5\n"
          ]
        }
      ]
    }
  ]
}