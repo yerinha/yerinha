{
  "nbformat": 4,
  "nbformat_minor": 0,
  "metadata": {
    "colab": {
      "name": "31422 하예린(논술형).ipynb",
      "provenance": [],
      "authorship_tag": "ABX9TyP4YnwPcTBLKy+bwsJMJU0o",
      "include_colab_link": true
    },
    "kernelspec": {
      "name": "python3",
      "display_name": "Python 3"
    },
    "language_info": {
      "name": "python"
    }
  },
  "cells": [
    {
      "cell_type": "markdown",
      "metadata": {
        "id": "view-in-github",
        "colab_type": "text"
      },
      "source": [
        "<a href=\"https://colab.research.google.com/github/yerinha/yerinha/blob/main/31422_%ED%95%98%EC%98%88%EB%A6%B0(%EB%85%BC%EC%88%A0%ED%98%95).ipynb\" target=\"_parent\"><img src=\"https://colab.research.google.com/assets/colab-badge.svg\" alt=\"Open In Colab\"/></a>"
      ]
    },
    {
      "cell_type": "code",
      "execution_count": null,
      "metadata": {
        "id": "f8biikAzESbR"
      },
      "outputs": [],
      "source": []
    },
    {
      "cell_type": "markdown",
      "source": [
        "github 올리면 5점  INPUT 사용해서 NUM1, NUM2 입력받기\n",
        "1, 2, 3, 4는 사칙연산 +( 5.몫, 6. 나머지, 7. 승수)"
      ],
      "metadata": {
        "id": "N64mF7GmFoM2"
      }
    },
    {
      "cell_type": "markdown",
      "source": [
        "컴퓨터과 3학년 2반 22번하예린 \n"
      ],
      "metadata": {
        "id": "uhN__vNuEj2l"
      }
    },
    {
      "cell_type": "code",
      "source": [
        "\n",
        "num1 = float(input(\"첫번째 숫자를 입력 : \"))\n",
        "num2 = float(input(\"두번째 숫자를 입력 : \"))\n",
        "print(num1, \"+\", num2, \"=\", num1 + num2)\n",
        "print(num1, \"-\", num2, \"=\", num1 - num2)\n",
        "print(num1, \"*\", num2, \"=\", num1 * num2)\n",
        "print(num1, \"/\", num2, \"=\", num1 / num2)\n",
        "print(num1, \"%\", num2, \"=\", num1 % num2)\n",
        "print(num1, \"//\", num2, \"=\", num1 // num2)\n",
        "print(num1, \"**\", num2, \"=\", num1** num2)\n"
      ],
      "metadata": {
        "colab": {
          "base_uri": "https://localhost:8080/"
        },
        "id": "9b-F7PFNFIy_",
        "outputId": "c9a792e9-44fa-467d-8f0c-ed99855b7a82"
      },
      "execution_count": 8,
      "outputs": [
        {
          "output_type": "stream",
          "name": "stdout",
          "text": [
            "첫번째 숫자를 입력 : 10\n",
            "두번째 숫자를 입력 : 2\n",
            "10.0 + 2.0 = 12.0\n",
            "10.0 - 2.0 = 8.0\n",
            "10.0 * 2.0 = 20.0\n",
            "10.0 / 2.0 = 5.0\n",
            "10.0 % 2.0 = 0.0\n",
            "10.0 // 2.0 = 5.0\n",
            "10.0 ** 2.0 = 100.0\n"
          ]
        }
      ]
    },
    {
      "cell_type": "code",
      "source": [
        "num1 = int(input(\"숫자1 ==> \"))\n",
        "num2 = int(input(\"숫자2 ==> \"))\n",
        "\n",
        "result1 = num1 + num2\n",
        "result2 = num1 - num2\n",
        "result3 = num1 * num2\n",
        "result4 = num1 / num2\n",
        "result5 = num1 // num2\n",
        "result6 = num1 % num2\n",
        "result7 = num1 ** num2\n",
        "\n",
        "print(num1, \"+\", num2, \"=\", result1)\n",
        "print(num1, \"-\", num2, \"=\", result2)\n",
        "print(num1, \"*\", num2, \"=\", result3)\n",
        "print(num1, \"/\", num2, \"=\", result4)\n",
        "print(num1, \"//\", num2, \"=\", result5)\n",
        "print(num1, \"%\", num2, \"=\", result6)\n",
        "print(num1, \"**\", num2, \"=\", result7)"
      ],
      "metadata": {
        "colab": {
          "base_uri": "https://localhost:8080/"
        },
        "id": "vZIYEzqAIKYO",
        "outputId": "3ec6ea8e-5dc5-446e-e5d4-b54198da6072"
      },
      "execution_count": 10,
      "outputs": [
        {
          "output_type": "stream",
          "name": "stdout",
          "text": [
            "숫자1 ==> 10\n",
            "숫자2 ==> 2\n",
            "10 + 2 = 12\n",
            "10 - 2 = 8\n",
            "10 * 2 = 20\n",
            "10 / 2 = 5.0\n",
            "10 // 2 = 5\n",
            "10 % 2 = 0\n",
            "10 ** 2 = 100\n"
          ]
        }
      ]
    },
    {
      "cell_type": "markdown",
      "source": [
        "+,  -,  *,  /,  %,  //,   **"
      ],
      "metadata": {
        "id": "9ZspI11IHTtN"
      }
    }
  ]
}