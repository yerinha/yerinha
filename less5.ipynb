{
  "nbformat": 4,
  "nbformat_minor": 0,
  "metadata": {
    "colab": {
      "provenance": [],
      "authorship_tag": "ABX9TyN0ac5HHI6RfqYLgt4RIQaX",
      "include_colab_link": true
    },
    "kernelspec": {
      "name": "python3",
      "display_name": "Python 3"
    },
    "language_info": {
      "name": "python"
    }
  },
  "cells": [
    {
      "cell_type": "markdown",
      "metadata": {
        "id": "view-in-github",
        "colab_type": "text"
      },
      "source": [
        "<a href=\"https://colab.research.google.com/github/yerinha/yerinha/blob/main/less5.ipynb\" target=\"_parent\"><img src=\"https://colab.research.google.com/assets/colab-badge.svg\" alt=\"Open In Colab\"/></a>"
      ]
    },
    {
      "cell_type": "code",
      "execution_count": null,
      "metadata": {
        "id": "PG89heQRz6fG"
      },
      "outputs": [],
      "source": []
    },
    {
      "cell_type": "code",
      "source": [
        "num = 99\n",
        "if num < 100 :\n",
        "     print(\"100보다 작습니다.\")"
      ],
      "metadata": {
        "colab": {
          "base_uri": "https://localhost:8080/"
        },
        "id": "VCeLbeKK2m_4",
        "outputId": "a7904849-7608-4229-c716-1254965798d3"
      },
      "execution_count": 1,
      "outputs": [
        {
          "output_type": "stream",
          "name": "stdout",
          "text": [
            "100보다 작습니다.\n"
          ]
        }
      ]
    },
    {
      "cell_type": "code",
      "source": [
        "num = 200\n",
        "if num < 100 :\n",
        "  print(\"100보다 작군요.\")\n",
        "else :\n",
        "  print(\"100보다 크군요.\")"
      ],
      "metadata": {
        "colab": {
          "base_uri": "https://localhost:8080/"
        },
        "id": "FkFKl8NZ4sqT",
        "outputId": "63505f95-9e83-4a3e-cf00-0d1554888c5e"
      },
      "execution_count": 2,
      "outputs": [
        {
          "output_type": "stream",
          "name": "stdout",
          "text": [
            "100보다 크군요.\n"
          ]
        }
      ]
    },
    {
      "cell_type": "markdown",
      "source": [
        "Talk that Talk\n"
      ],
      "metadata": {
        "id": "4ON3rlBX475E"
      }
    },
    {
      "cell_type": "code",
      "source": [
        "num = int(input(\"숫자를 입력 ==> \"))\n",
        "if ( num % 2) == 0 :\n",
        "  print(num, \"짝수입니다.\")\n",
        "else :\n",
        "  print(num, \"홀수입니다.\")"
      ],
      "metadata": {
        "colab": {
          "base_uri": "https://localhost:8080/"
        },
        "id": "-l1m4NmB5An2",
        "outputId": "5476e7e6-7370-4c0c-b37d-7626a8a75544"
      },
      "execution_count": 3,
      "outputs": [
        {
          "output_type": "stream",
          "name": "stdout",
          "text": [
            "숫자를 입력 ==> 4\n",
            "4 짝수입니다.\n"
          ]
        }
      ]
    },
    {
      "cell_type": "markdown",
      "source": [
        "FOREVER 1"
      ],
      "metadata": {
        "id": "2za1vU4k6sPS"
      }
    },
    {
      "cell_type": "code",
      "source": [
        "num = int(input(\"숫자를 입력 ==> \"))\n",
        "\n",
        "if num > 100 :\n",
        "  if num < 1000 :\n",
        "    print(\"100보다 크고 1000보다 작군요.\")\n",
        "  else :\n",
        "    print(\"와 ! 1000보다 크군요.\")\n",
        "else :\n",
        "  print(\"음!! 100보다 작군요.\")"
      ],
      "metadata": {
        "colab": {
          "base_uri": "https://localhost:8080/"
        },
        "id": "4xu5N6k16utS",
        "outputId": "f89b3d6e-93c5-411e-e91f-f08e5e778a83"
      },
      "execution_count": 4,
      "outputs": [
        {
          "output_type": "stream",
          "name": "stdout",
          "text": [
            "숫자를 입력 ==> 150\n",
            "100보다 크고 1000보다 작군요.\n"
          ]
        }
      ]
    },
    {
      "cell_type": "markdown",
      "source": [
        "Rewind / girls"
      ],
      "metadata": {
        "id": "QNvyWSFo7qf6"
      }
    },
    {
      "cell_type": "code",
      "source": [
        "score = int(input(\"점수를 입력 ==> \"))\n",
        "\n",
        "if score >= 90 :\n",
        "  print(\"A\", end= ' ')\n",
        "else :\n",
        "  if score >= 80 :\n",
        "    print(\"B\", end=' ')\n",
        "  else :\n",
        "    if score >= 70:\n",
        "      print(\"c\", end=' ')\n",
        "    else :\n",
        "      if score >= 60 :\n",
        "        print(\"D\", end=' ')\n",
        "      else :\n",
        "         print(\"F\", end=' ')\n",
        "print(\"학점입니다.\")\n",
        "    "
      ],
      "metadata": {
        "colab": {
          "base_uri": "https://localhost:8080/"
        },
        "id": "vcNkgbFH7tB2",
        "outputId": "8467a0b0-caa0-43cf-d271-18edd7243737"
      },
      "execution_count": 7,
      "outputs": [
        {
          "output_type": "stream",
          "name": "stdout",
          "text": [
            "점수를 입력 ==>  80\n",
            "B 학점입니다.\n"
          ]
        }
      ]
    },
    {
      "cell_type": "markdown",
      "source": [
        "UP!/비밀의 시간"
      ],
      "metadata": {
        "id": "GPTNLH5aA0Wd"
      }
    },
    {
      "cell_type": "code",
      "source": [
        "score = int(input(\"점수를 입력 ==> \"))\n",
        "\n",
        "if score >= 90 :\n",
        "  print(\"A\", end=' ')\n",
        "elif score >= 80 :\n",
        "  print(\"B\", end=' ')\n",
        "elif score >= 70 :\n",
        "  print(\"C\", end=' ')\n",
        "elif score >= 60 :\n",
        "  print(\"D\", end=' ')\n",
        "else :\n",
        "  print(\"F\", end=' ')\n",
        "  print(\"학점입니다.\")"
      ],
      "metadata": {
        "colab": {
          "base_uri": "https://localhost:8080/"
        },
        "id": "sLcNC507A103",
        "outputId": "4c7beb69-cfd5-4012-a2af-582a2d5a0388"
      },
      "execution_count": 8,
      "outputs": [
        {
          "output_type": "stream",
          "name": "stdout",
          "text": [
            "점수를 입력 ==> 90\n",
            "A "
          ]
        }
      ]
    },
    {
      "cell_type": "markdown",
      "source": [
        "INVU"
      ],
      "metadata": {
        "id": "6p5ZJ89KEWS_"
      }
    },
    {
      "cell_type": "code",
      "source": [],
      "metadata": {
        "id": "efxiTu5PEY9x"
      },
      "execution_count": null,
      "outputs": []
    }
  ]
}