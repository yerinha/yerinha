{
  "nbformat": 4,
  "nbformat_minor": 0,
  "metadata": {
    "colab": {
      "provenance": [],
      "authorship_tag": "ABX9TyMEwUISV+ls0FZkVaVb0oRy",
      "include_colab_link": true
    },
    "kernelspec": {
      "name": "python3",
      "display_name": "Python 3"
    },
    "language_info": {
      "name": "python"
    }
  },
  "cells": [
    {
      "cell_type": "markdown",
      "metadata": {
        "id": "view-in-github",
        "colab_type": "text"
      },
      "source": [
        "<a href=\"https://colab.research.google.com/github/yerinha/yerinha/blob/main/2022_09_29_%EC%88%98%ED%96%89%ED%8F%89%EA%B0%80_1.ipynb\" target=\"_parent\"><img src=\"https://colab.research.google.com/assets/colab-badge.svg\" alt=\"Open In Colab\"/></a>"
      ]
    },
    {
      "cell_type": "markdown",
      "source": [
        "1번\n"
      ],
      "metadata": {
        "id": "PR2HQ_CcjkBs"
      }
    },
    {
      "cell_type": "code",
      "execution_count": 1,
      "metadata": {
        "colab": {
          "base_uri": "https://localhost:8080/"
        },
        "id": "wUhBTSTBILoS",
        "outputId": "0fdb96df-ad78-4aa8-89da-3ed1c2607677"
      },
      "outputs": [
        {
          "output_type": "stream",
          "name": "stdout",
          "text": [
            "원본 문자열은 ==>  Python\n",
            "변환 문자열은 ==>  pYTHON\n"
          ]
        }
      ],
      "source": [
        "text = \"Python\"\n",
        "change_text = text[0].lower() + text[1].upper() + text[2].upper() + text[3].upper() + \\\n",
        "text[4].upper() + text[5].upper()\n",
        "print(\"원본 문자열은 ==> \", text)\n",
        "print(\"변환 문자열은 ==> \", change_text)"
      ]
    },
    {
      "cell_type": "markdown",
      "source": [
        "222222"
      ],
      "metadata": {
        "id": "vppehdZqlJAu"
      }
    },
    {
      "cell_type": "code",
      "source": [
        "singer = input(\"가수 이름을 입력 : \")\n",
        "singer_length = len(singer)\n",
        "r_singer= \"\"\n",
        "while singer_length > 0 :\n",
        "  r_singer = r_singer + singer[singer_length-1]\n",
        "  singer_length = singer_length -1\n",
        "print(r_singer)"
      ],
      "metadata": {
        "colab": {
          "base_uri": "https://localhost:8080/"
        },
        "id": "FEDDkahqn0cS",
        "outputId": "a15eea51-567e-4cc1-95ec-ee47221c48b8"
      },
      "execution_count": 5,
      "outputs": [
        {
          "output_type": "stream",
          "name": "stdout",
          "text": [
            "가수 이름을 입력 : 르세라핌\n",
            "핌라세르\n"
          ]
        }
      ]
    },
    {
      "cell_type": "markdown",
      "source": [
        "333333333"
      ],
      "metadata": {
        "id": "gOZJNWnLlXip"
      }
    },
    {
      "cell_type": "markdown",
      "source": [
        "444444\n"
      ],
      "metadata": {
        "id": "pXVOgDCalsF-"
      }
    }
  ]
}