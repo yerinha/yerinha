{
  "nbformat": 4,
  "nbformat_minor": 0,
  "metadata": {
    "colab": {
      "provenance": [],
      "authorship_tag": "ABX9TyNuu5mx2Y39mk9amNVJ51DI",
      "include_colab_link": true
    },
    "kernelspec": {
      "name": "python3",
      "display_name": "Python 3"
    },
    "language_info": {
      "name": "python"
    }
  },
  "cells": [
    {
      "cell_type": "markdown",
      "metadata": {
        "id": "view-in-github",
        "colab_type": "text"
      },
      "source": [
        "<a href=\"https://colab.research.google.com/github/yerinha/yerinha/blob/main/2022_09_29_%EC%88%98%ED%96%89%ED%8F%89%EA%B0%80_1.ipynb\" target=\"_parent\"><img src=\"https://colab.research.google.com/assets/colab-badge.svg\" alt=\"Open In Colab\"/></a>"
      ]
    },
    {
      "cell_type": "markdown",
      "source": [
        "1번\n"
      ],
      "metadata": {
        "id": "PR2HQ_CcjkBs"
      }
    },
    {
      "cell_type": "code",
      "execution_count": 1,
      "metadata": {
        "colab": {
          "base_uri": "https://localhost:8080/"
        },
        "id": "wUhBTSTBILoS",
        "outputId": "0fdb96df-ad78-4aa8-89da-3ed1c2607677"
      },
      "outputs": [
        {
          "output_type": "stream",
          "name": "stdout",
          "text": [
            "원본 문자열은 ==>  Python\n",
            "변환 문자열은 ==>  pYTHON\n"
          ]
        }
      ],
      "source": [
        "text = \"Python\"\n",
        "change_text = text[0].lower() + text[1].upper() + text[2].upper() + text[3].upper() + \\\n",
        "text[4].upper() + text[5].upper()\n",
        "print(\"원본 문자열은 ==> \", text)\n",
        "print(\"변환 문자열은 ==> \", change_text)"
      ]
    },
    {
      "cell_type": "markdown",
      "source": [
        "222222"
      ],
      "metadata": {
        "id": "vppehdZqlJAu"
      }
    },
    {
      "cell_type": "markdown",
      "source": [
        "333333333"
      ],
      "metadata": {
        "id": "gOZJNWnLlXip"
      }
    },
    {
      "cell_type": "markdown",
      "source": [
        "444444\n"
      ],
      "metadata": {
        "id": "pXVOgDCalsF-"
      }
    }
  ]
}