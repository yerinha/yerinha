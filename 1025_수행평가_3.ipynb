{
  "nbformat": 4,
  "nbformat_minor": 0,
  "metadata": {
    "colab": {
      "provenance": [],
      "authorship_tag": "ABX9TyPhUeJbONADE+1ZPmBSFKjM",
      "include_colab_link": true
    },
    "kernelspec": {
      "name": "python3",
      "display_name": "Python 3"
    },
    "language_info": {
      "name": "python"
    }
  },
  "cells": [
    {
      "cell_type": "markdown",
      "metadata": {
        "id": "view-in-github",
        "colab_type": "text"
      },
      "source": [
        "<a href=\"https://colab.research.google.com/github/yerinha/yerinha/blob/main/1025_%EC%88%98%ED%96%89%ED%8F%89%EA%B0%80_3.ipynb\" target=\"_parent\"><img src=\"https://colab.research.google.com/assets/colab-badge.svg\" alt=\"Open In Colab\"/></a>"
      ]
    },
    {
      "cell_type": "code",
      "execution_count": 1,
      "metadata": {
        "colab": {
          "base_uri": "https://localhost:8080/"
        },
        "id": "nCjEvVKRd4Uv",
        "outputId": "d203cc63-0f48-4309-a892-0e87380b3a0f"
      },
      "outputs": [
        {
          "output_type": "stream",
          "name": "stdout",
          "text": [
            "2 x 1 = 2\n",
            "2 x 2 = 4\n",
            "2 x 3 = 6\n",
            "2 x 4 = 8\n",
            "2 x 5 = 10\n",
            "2 x 6 = 12\n",
            "2 x 7 = 14\n",
            "2 x 8 = 16\n",
            "2 x 9 = 18\n",
            "3 x 1 = 3\n",
            "3 x 2 = 6\n",
            "3 x 3 = 9\n",
            "3 x 4 = 12\n",
            "3 x 5 = 15\n",
            "3 x 6 = 18\n",
            "3 x 7 = 21\n",
            "3 x 8 = 24\n",
            "3 x 9 = 27\n",
            "4 x 1 = 4\n",
            "4 x 2 = 8\n",
            "4 x 3 = 12\n",
            "4 x 4 = 16\n",
            "4 x 5 = 20\n",
            "4 x 6 = 24\n",
            "4 x 7 = 28\n",
            "4 x 8 = 32\n",
            "4 x 9 = 36\n",
            "5 x 1 = 5\n",
            "5 x 2 = 10\n",
            "5 x 3 = 15\n",
            "5 x 4 = 20\n",
            "5 x 5 = 25\n",
            "5 x 6 = 30\n",
            "5 x 7 = 35\n",
            "5 x 8 = 40\n",
            "5 x 9 = 45\n",
            "6 x 1 = 6\n",
            "6 x 2 = 12\n",
            "6 x 3 = 18\n",
            "6 x 4 = 24\n",
            "6 x 5 = 30\n",
            "6 x 6 = 36\n",
            "6 x 7 = 42\n",
            "6 x 8 = 48\n",
            "6 x 9 = 54\n",
            "7 x 1 = 7\n",
            "7 x 2 = 14\n",
            "7 x 3 = 21\n",
            "7 x 4 = 28\n",
            "7 x 5 = 35\n",
            "7 x 6 = 42\n",
            "7 x 7 = 49\n",
            "7 x 8 = 56\n",
            "7 x 9 = 63\n",
            "8 x 1 = 8\n",
            "8 x 2 = 16\n",
            "8 x 3 = 24\n",
            "8 x 4 = 32\n",
            "8 x 5 = 40\n",
            "8 x 6 = 48\n",
            "8 x 7 = 56\n",
            "8 x 8 = 64\n",
            "8 x 9 = 72\n",
            "9 x 1 = 9\n",
            "9 x 2 = 18\n",
            "9 x 3 = 27\n",
            "9 x 4 = 36\n",
            "9 x 5 = 45\n",
            "9 x 6 = 54\n",
            "9 x 7 = 63\n",
            "9 x 8 = 72\n",
            "9 x 9 = 81\n"
          ]
        }
      ],
      "source": [
        "for dan in range(2, 10):  # 2 ~ 9\n",
        "    for i in range(1, 10):  # 1 ~ 9\n",
        "        print(f'{dan} x {i} = {dan * i}')"
      ]
    },
    {
      "cell_type": "code",
      "source": [
        "hap, i=0,0\n",
        "\n",
        "for i in range(1,101) :\n",
        "    if i  % 4==0 :\n",
        "        continue\n",
        "\n",
        "    hap+=i\n",
        "\n",
        "\n",
        "print(\"1~100의 합계(4의 배수 제외) : %d\" % hap)"
      ],
      "metadata": {
        "colab": {
          "base_uri": "https://localhost:8080/"
        },
        "id": "NqT9qMofeRqw",
        "outputId": "bd7b704a-a1e5-4e03-cf8f-cf857b32ffea"
      },
      "execution_count": 7,
      "outputs": [
        {
          "output_type": "stream",
          "name": "stdout",
          "text": [
            "1~100의 합계(4의 배수 제외) : 3750\n"
          ]
        }
      ]
    },
    {
      "cell_type": "code",
      "source": [
        "import random\n",
        "count = 0\n",
        "while True :\n",
        "  r1, r2 = random.randint(1,6), random.randint(1,6)\n",
        "  r3 = random.randint(1,6)\n",
        "  count = count + 1\n",
        "  if r1 == r2 == r3 : break\n",
        "print(\"3개의 주사위는 모두 \", r1, \"나왔다.\")\n",
        "print(\"같은 숫자가 나오기까지 \", count,\"번 던졌습니다.\")"
      ],
      "metadata": {
        "colab": {
          "base_uri": "https://localhost:8080/"
        },
        "id": "1Zxni2VqfCro",
        "outputId": "c48eaecc-8edd-4bb8-c64b-2dd528050a77"
      },
      "execution_count": 8,
      "outputs": [
        {
          "output_type": "stream",
          "name": "stdout",
          "text": [
            "3개의 주사위는 모두  5 나왔다.\n",
            "같은 숫자가 나오기까지  13 번 던졌습니다.\n"
          ]
        }
      ]
    },
    {
      "cell_type": "code",
      "source": [
        "import random\n",
        "\n",
        "print('0~100까지의 숫자를 입력하세요.')\n",
        "\n",
        "com = random.randint(0,5)\n",
        "\n",
        "count = 0\n",
        "while True:\n",
        "\n",
        "    count += 1\n",
        "    print(f\"{count} 회: 컴퓨터가 생각한 숫자는?\")\n",
        "    user = int(input('당신의 선택은 ? '))\n",
        "\n",
        "    if user > com:\n",
        "        print('아까워요. 다시 해보세요. ㅠ')\n",
        "    elif user < com:\n",
        "        print('아까워요. 다시 해보세요. ㅠ')\n",
        "    else:\n",
        "        print('맞혔네요. 축하합니다!')\n",
        "        break"
      ],
      "metadata": {
        "colab": {
          "base_uri": "https://localhost:8080/"
        },
        "id": "uwJ9fKxWguES",
        "outputId": "529068db-21fc-4520-9019-a7eab907b748"
      },
      "execution_count": 11,
      "outputs": [
        {
          "output_type": "stream",
          "name": "stdout",
          "text": [
            "0~100까지의 숫자를 입력하세요.\n",
            "1 회: 컴퓨터가 생각한 숫자는?\n",
            "당신의 선택은 ? 5\n",
            "아까워요. 다시 해보세요. ㅠ\n",
            "2 회: 컴퓨터가 생각한 숫자는?\n",
            "당신의 선택은 ? 2\n",
            "아까워요. 다시 해보세요. ㅠ\n",
            "3 회: 컴퓨터가 생각한 숫자는?\n",
            "당신의 선택은 ? 5\n",
            "아까워요. 다시 해보세요. ㅠ\n",
            "4 회: 컴퓨터가 생각한 숫자는?\n",
            "당신의 선택은 ? 4\n",
            "아까워요. 다시 해보세요. ㅠ\n",
            "5 회: 컴퓨터가 생각한 숫자는?\n",
            "당신의 선택은 ? 3\n",
            "아까워요. 다시 해보세요. ㅠ\n",
            "6 회: 컴퓨터가 생각한 숫자는?\n",
            "당신의 선택은 ? 1\n",
            "맞혔네요. 축하합니다!\n"
          ]
        }
      ]
    }
  ]
}