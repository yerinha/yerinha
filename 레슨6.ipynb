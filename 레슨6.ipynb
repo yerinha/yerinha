{
  "nbformat": 4,
  "nbformat_minor": 0,
  "metadata": {
    "colab": {
      "provenance": [],
      "authorship_tag": "ABX9TyNubHlnm6BkO2Rgb7mw9fdJ",
      "include_colab_link": true
    },
    "kernelspec": {
      "name": "python3",
      "display_name": "Python 3"
    },
    "language_info": {
      "name": "python"
    }
  },
  "cells": [
    {
      "cell_type": "markdown",
      "metadata": {
        "id": "view-in-github",
        "colab_type": "text"
      },
      "source": [
        "<a href=\"https://colab.research.google.com/github/yerinha/yerinha/blob/main/%EB%A0%88%EC%8A%A86.ipynb\" target=\"_parent\"><img src=\"https://colab.research.google.com/assets/colab-badge.svg\" alt=\"Open In Colab\"/></a>"
      ]
    },
    {
      "cell_type": "code",
      "execution_count": null,
      "metadata": {
        "id": "ks9S-wSBH58E"
      },
      "outputs": [],
      "source": []
    },
    {
      "cell_type": "markdown",
      "source": [
        "6장"
      ],
      "metadata": {
        "id": "hAGU7QnbIZkS"
      }
    },
    {
      "cell_type": "code",
      "source": [
        "for i in range(3) :\n",
        "  print(\"안산공고 컴퓨터과 최고\")\n",
        "  print(\"하이\")"
      ],
      "metadata": {
        "colab": {
          "base_uri": "https://localhost:8080/"
        },
        "id": "kOFbVwXxIbGK",
        "outputId": "9005a673-f00a-4811-85c0-69ba326ccc14"
      },
      "execution_count": 1,
      "outputs": [
        {
          "output_type": "stream",
          "name": "stdout",
          "text": [
            "안산공고 컴퓨터과 최고\n",
            "하이\n",
            "안산공고 컴퓨터과 최고\n",
            "하이\n",
            "안산공고 컴퓨터과 최고\n",
            "하이\n"
          ]
        }
      ]
    },
    {
      "cell_type": "code",
      "source": [
        "mylist = [\"가위\", \"바위\", \"보\"]\n",
        "for i in mylist :\n",
        "  print(i)\n",
        "\n"
      ],
      "metadata": {
        "colab": {
          "base_uri": "https://localhost:8080/"
        },
        "id": "lEzRc0zkKldk",
        "outputId": "dae62b08-3eaf-485c-8871-6dfc01dd494f"
      },
      "execution_count": 9,
      "outputs": [
        {
          "output_type": "stream",
          "name": "stdout",
          "text": [
            "가위\n",
            "바위\n",
            "보\n"
          ]
        }
      ]
    },
    {
      "cell_type": "code",
      "source": [
        "mylist = [\"가위\", 1, 29, \"안산\", \"공고\"]\n",
        "temp = input(\"입력: \")\n",
        "if temp in mylist :\n",
        "  print(temp, \"리스트 목록에 있습니다.\")"
      ],
      "metadata": {
        "colab": {
          "base_uri": "https://localhost:8080/"
        },
        "id": "zcEer8mYMTh9",
        "outputId": "0ea9759b-37b3-4072-acea-b1a33553ebdf"
      },
      "execution_count": 11,
      "outputs": [
        {
          "output_type": "stream",
          "name": "stdout",
          "text": [
            "입력: 가위\n",
            "가위 리스트 목록에 있습니다.\n"
          ]
        }
      ]
    },
    {
      "cell_type": "markdown",
      "source": [
        "학생 줄 세우기"
      ],
      "metadata": {
        "id": "07XHsIMnNGBs"
      }
    },
    {
      "cell_type": "code",
      "source": [
        "fact = 1\n",
        "friends_num = 5\n",
        "\n",
        "for i in range(1, friends_num + 1, 1):\n",
        "  fact = fact * i\n",
        "\n",
        "print(\"A, B, C, D, E 학생들을 순서대로 세우는 경우의 수 :\", fact)"
      ],
      "metadata": {
        "colab": {
          "base_uri": "https://localhost:8080/"
        },
        "id": "DlJzonz6NJjS",
        "outputId": "b9c98b9f-0e12-4e2b-9de2-b3897ce57795"
      },
      "execution_count": 12,
      "outputs": [
        {
          "output_type": "stream",
          "name": "stdout",
          "text": [
            "A, B, C, D, E 학생들을 순서대로 세우는 경우의 수 : 120\n"
          ]
        }
      ]
    },
    {
      "cell_type": "code",
      "source": [
        "hap = 0\n",
        "for i in range(1, 11, 1):\n",
        "  hap = hap + i\n",
        "\n",
        "print(\"1에서 10까지의 합 : \", hap)"
      ],
      "metadata": {
        "colab": {
          "base_uri": "https://localhost:8080/"
        },
        "id": "79xMs0Y7PFhW",
        "outputId": "472505fb-c06d-4650-a20b-6c29d98f1599"
      },
      "execution_count": 13,
      "outputs": [
        {
          "output_type": "stream",
          "name": "stdout",
          "text": [
            "1에서 10까지의 합 :  55\n"
          ]
        }
      ]
    },
    {
      "cell_type": "code",
      "source": [
        "i, hap = 0, 0\n",
        "\n",
        "for i in range(1001, 2001, 2) :\n",
        "  hap += i\n",
        "\n",
        "print(\"1000에서 2000까지의 홀수의 합 :\", hap)"
      ],
      "metadata": {
        "colab": {
          "base_uri": "https://localhost:8080/"
        },
        "id": "Itld35NYPyTe",
        "outputId": "31bccc49-8a55-45c2-cc90-a3df0ef94982"
      },
      "execution_count": 14,
      "outputs": [
        {
          "output_type": "stream",
          "name": "stdout",
          "text": [
            "1000에서 2000까지의 홀수의 합 : 750000\n"
          ]
        }
      ]
    },
    {
      "cell_type": "markdown",
      "source": [
        "중첩  for문"
      ],
      "metadata": {
        "id": "SqG_rd0-Q9st"
      }
    },
    {
      "cell_type": "code",
      "source": [
        "for i in range(3) :\n",
        "  for k in range(2) :\n",
        "    print(\"난생처음은 쉽습니다. ^^ (i값:\", i,\", k값:\", k,\")\")"
      ],
      "metadata": {
        "colab": {
          "base_uri": "https://localhost:8080/"
        },
        "id": "Xtisie1HQ_X2",
        "outputId": "87624556-1b09-460a-913a-fb40bb633caa"
      },
      "execution_count": 15,
      "outputs": [
        {
          "output_type": "stream",
          "name": "stdout",
          "text": [
            "난생처음은 쉽습니다. ^^ (i값: 0 , k값: 0 )\n",
            "난생처음은 쉽습니다. ^^ (i값: 0 , k값: 1 )\n",
            "난생처음은 쉽습니다. ^^ (i값: 1 , k값: 0 )\n",
            "난생처음은 쉽습니다. ^^ (i값: 1 , k값: 1 )\n",
            "난생처음은 쉽습니다. ^^ (i값: 2 , k값: 0 )\n",
            "난생처음은 쉽습니다. ^^ (i값: 2 , k값: 1 )\n"
          ]
        }
      ]
    },
    {
      "cell_type": "code",
      "source": [
        "i = 0\n",
        "j = 0\n",
        "\n",
        "for i in range(2, 10) :\n",
        "  for j in range(1, 10) :\n",
        "    print(i, \"x\", j, \"=\", i * j)\n",
        "  print(\"\")"
      ],
      "metadata": {
        "colab": {
          "base_uri": "https://localhost:8080/"
        },
        "id": "yFQm_NQyUTZC",
        "outputId": "f2493b69-1992-478e-e647-7e545f2b9ee1"
      },
      "execution_count": 16,
      "outputs": [
        {
          "output_type": "stream",
          "name": "stdout",
          "text": [
            "2 x 1 = 2\n",
            "2 x 2 = 4\n",
            "2 x 3 = 6\n",
            "2 x 4 = 8\n",
            "2 x 5 = 10\n",
            "2 x 6 = 12\n",
            "2 x 7 = 14\n",
            "2 x 8 = 16\n",
            "2 x 9 = 18\n",
            "\n",
            "3 x 1 = 3\n",
            "3 x 2 = 6\n",
            "3 x 3 = 9\n",
            "3 x 4 = 12\n",
            "3 x 5 = 15\n",
            "3 x 6 = 18\n",
            "3 x 7 = 21\n",
            "3 x 8 = 24\n",
            "3 x 9 = 27\n",
            "\n",
            "4 x 1 = 4\n",
            "4 x 2 = 8\n",
            "4 x 3 = 12\n",
            "4 x 4 = 16\n",
            "4 x 5 = 20\n",
            "4 x 6 = 24\n",
            "4 x 7 = 28\n",
            "4 x 8 = 32\n",
            "4 x 9 = 36\n",
            "\n",
            "5 x 1 = 5\n",
            "5 x 2 = 10\n",
            "5 x 3 = 15\n",
            "5 x 4 = 20\n",
            "5 x 5 = 25\n",
            "5 x 6 = 30\n",
            "5 x 7 = 35\n",
            "5 x 8 = 40\n",
            "5 x 9 = 45\n",
            "\n",
            "6 x 1 = 6\n",
            "6 x 2 = 12\n",
            "6 x 3 = 18\n",
            "6 x 4 = 24\n",
            "6 x 5 = 30\n",
            "6 x 6 = 36\n",
            "6 x 7 = 42\n",
            "6 x 8 = 48\n",
            "6 x 9 = 54\n",
            "\n",
            "7 x 1 = 7\n",
            "7 x 2 = 14\n",
            "7 x 3 = 21\n",
            "7 x 4 = 28\n",
            "7 x 5 = 35\n",
            "7 x 6 = 42\n",
            "7 x 7 = 49\n",
            "7 x 8 = 56\n",
            "7 x 9 = 63\n",
            "\n",
            "8 x 1 = 8\n",
            "8 x 2 = 16\n",
            "8 x 3 = 24\n",
            "8 x 4 = 32\n",
            "8 x 5 = 40\n",
            "8 x 6 = 48\n",
            "8 x 7 = 56\n",
            "8 x 8 = 64\n",
            "8 x 9 = 72\n",
            "\n",
            "9 x 1 = 9\n",
            "9 x 2 = 18\n",
            "9 x 3 = 27\n",
            "9 x 4 = 36\n",
            "9 x 5 = 45\n",
            "9 x 6 = 54\n",
            "9 x 7 = 63\n",
            "9 x 8 = 72\n",
            "9 x 9 = 81\n",
            "\n"
          ]
        }
      ]
    },
    {
      "cell_type": "code",
      "source": [
        "for i in range(0, 3, 1) :\n",
        "  print(i, \": 난생처음 파이썬은 재미있습니다. ^^\")\n",
        "  "
      ],
      "metadata": {
        "colab": {
          "base_uri": "https://localhost:8080/"
        },
        "id": "i_AYfXwcW1mB",
        "outputId": "6bf7047b-2d80-4979-d02f-2d05d8298714"
      },
      "execution_count": 17,
      "outputs": [
        {
          "output_type": "stream",
          "name": "stdout",
          "text": [
            "0 : 난생처음 파이썬은 재미있습니다. ^^\n",
            "1 : 난생처음 파이썬은 재미있습니다. ^^\n",
            "2 : 난생처음 파이썬은 재미있습니다. ^^\n"
          ]
        }
      ]
    },
    {
      "cell_type": "code",
      "source": [
        "i = 0\n",
        "while (i < 3) :\n",
        "  print(i\" : 난생처음 파이썬은 재미있습니다. ^^\")\n",
        "  i = i + 1\n"
      ],
      "metadata": {
        "colab": {
          "base_uri": "https://localhost:8080/",
          "height": 137
        },
        "id": "Cz7ghIl1XF8X",
        "outputId": "5dfe169a-2ce7-4214-90c8-cf1ddc8a6021"
      },
      "execution_count": 20,
      "outputs": [
        {
          "output_type": "error",
          "ename": "SyntaxError",
          "evalue": "ignored",
          "traceback": [
            "\u001b[0;36m  File \u001b[0;32m\"<ipython-input-20-3378adc7eac6>\"\u001b[0;36m, line \u001b[0;32m3\u001b[0m\n\u001b[0;31m    print(i\" : 난생처음 파이썬은 재미있습니다. ^^\")\u001b[0m\n\u001b[0m                                   ^\u001b[0m\n\u001b[0;31mSyntaxError\u001b[0m\u001b[0;31m:\u001b[0m invalid syntax\n"
          ]
        }
      ]
    },
    {
      "cell_type": "code",
      "source": [
        "\n",
        "while True :\n",
        "  num1 = int(input(\"숫자1 ==> \"))\n",
        "  if num1 == 0 :\n",
        "   break\n",
        "  num2 = int(input(\"숫자2 ==> \"))\n",
        "\n",
        "  hap = num1 + num2\n",
        "  print(num1, \"+\", num2, \"=\", hap)"
      ],
      "metadata": {
        "colab": {
          "base_uri": "https://localhost:8080/"
        },
        "id": "kZf2v-SQXmck",
        "outputId": "05f247d7-42b5-46e0-9832-599279f9a459"
      },
      "execution_count": 30,
      "outputs": [
        {
          "name": "stdout",
          "output_type": "stream",
          "text": [
            "숫자1 ==> 40\n",
            "숫자2 ==> 10\n",
            "40 + 10 = 50\n",
            "숫자1 ==> 20\n",
            "숫자2 ==> 50\n",
            "20 + 50 = 70\n",
            "숫자1 ==> 10\n",
            "숫자2 ==> 0\n",
            "10 + 0 = 10\n",
            "숫자1 ==> 0\n"
          ]
        }
      ]
    },
    {
      "cell_type": "markdown",
      "source": [
        "주사위 3개를 동시에 던져 동일한 숫자 나오기"
      ],
      "metadata": {
        "id": "l0jhVMebZk7E"
      }
    },
    {
      "cell_type": "code",
      "source": [
        "import random\n",
        "\n",
        "count = 0\n",
        "\n",
        "while True :\n",
        "  r1 = random.randint(1,6)\n",
        "  r2 = random.randint(1,6)\n",
        "  r3 = random.randint(1,6)\n",
        "\n",
        "  count += 1\n",
        "\n",
        "  if r1==r2==r3 :\n",
        "    break\n",
        "\n",
        "print(\"3개의 주사위는 모두\", r1, \"입니다\")\n",
        "print(\"같은 숫자가 나오기까지\", count, \"번 던졌습니다.\")"
      ],
      "metadata": {
        "colab": {
          "base_uri": "https://localhost:8080/"
        },
        "id": "CMypy3PjZoyj",
        "outputId": "9a066650-a221-44ab-f186-b52813052f1f"
      },
      "execution_count": 35,
      "outputs": [
        {
          "output_type": "stream",
          "name": "stdout",
          "text": [
            "3개의 주사위는 모두 3 입니다\n",
            "같은 숫자가 나오기까지 44 번 던졌습니다.\n"
          ]
        }
      ]
    },
    {
      "cell_type": "markdown",
      "source": [
        "컴퓨터와 인간 숫자맞히기 대결"
      ],
      "metadata": {
        "id": "phn3YGOwdBZM"
      }
    },
    {
      "cell_type": "code",
      "source": [
        "import random\n",
        "com_list = [1,2,3,4,5,6,7,8,9]\n",
        "com_num, usr_num = [], []\n",
        "\n",
        "def usr_fun() :\n",
        "  usr = input(\"3개의 숫자를 입력(1~9까지) ==> \")\n",
        "  for i in range(0,5,2) :\n",
        "    usr_num.append(int(usr[i]))\n",
        "\n",
        "# 컴퓨터 - 3개의 중복되지 않는 숫자 만들기  \n",
        "for i in range(3) :\n",
        "  r = random.choice(com_list)\n",
        "  com_list.remove(r)\n",
        "  com_num.append(r)\n",
        "\n",
        "print(\"** 야구 게임 ** \")\n",
        "#스트라이크 및 볼 판정 ---------------------------\n",
        "strike, ball = 0, 0\n",
        "while True :\n",
        "  usr_num.clear()\n",
        "  usr_fun()\n",
        "  for i in range(3) :\n",
        "    if com_num[i] == usr_num[i] :\n",
        "      strike = strike + 1\n",
        "    elif usr_num[i] in com_num :\n",
        "      ball = ball + 1\n",
        "  print(strike, \"스트라이크\", \" : \", ball, \"볼\")\n",
        "  if strike == 3 : \n",
        "    print(\"축하합니다.\")\n",
        "    break\n",
        "  strike, ball = 0, 0"
      ],
      "metadata": {
        "colab": {
          "base_uri": "https://localhost:8080/"
        },
        "id": "6vHJJd0_dPTm",
        "outputId": "787d4b8e-7726-4d5f-9110-cec76cc95d89"
      },
      "execution_count": 41,
      "outputs": [
        {
          "output_type": "stream",
          "name": "stdout",
          "text": [
            "** 야구 게임 ** \n",
            "3개의 숫자를 입력(1~9까지) ==> 3,4,6+\n",
            "1 스트라이크  :  0 볼\n",
            "3개의 숫자를 입력(1~9까지) ==> 3,4,2\n",
            "1 스트라이크  :  1 볼\n",
            "3개의 숫자를 입력(1~9까지) ==> 3,2,5\n",
            "3 스트라이크  :  0 볼\n",
            "축하합니다.\n"
          ]
        }
      ]
    },
    {
      "cell_type": "code",
      "source": [],
      "metadata": {
        "id": "DCYVlDGHfEXr"
      },
      "execution_count": null,
      "outputs": []
    },
    {
      "cell_type": "code",
      "source": [],
      "metadata": {
        "id": "3_Aei7W3dEhU"
      },
      "execution_count": null,
      "outputs": []
    },
    {
      "cell_type": "code",
      "source": [],
      "metadata": {
        "id": "gqU2ICyHdEl-"
      },
      "execution_count": null,
      "outputs": []
    }
  ]
}