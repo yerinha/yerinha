{
  "nbformat": 4,
  "nbformat_minor": 0,
  "metadata": {
    "colab": {
      "name": "4장 ipynb",
      "provenance": [],
      "authorship_tag": "ABX9TyOxN00gqctmGPpuImS8xVSa",
      "include_colab_link": true
    },
    "kernelspec": {
      "name": "python3",
      "display_name": "Python 3"
    },
    "language_info": {
      "name": "python"
    }
  },
  "cells": [
    {
      "cell_type": "markdown",
      "metadata": {
        "id": "view-in-github",
        "colab_type": "text"
      },
      "source": [
        "<a href=\"https://colab.research.google.com/github/yerinha/yerinha/blob/main/4%EC%9E%A5_ipynb.ipynb\" target=\"_parent\"><img src=\"https://colab.research.google.com/assets/colab-badge.svg\" alt=\"Open In Colab\"/></a>"
      ]
    },
    {
      "cell_type": "code",
      "execution_count": 16,
      "metadata": {
        "colab": {
          "base_uri": "https://localhost:8080/"
        },
        "id": "q5-Y71O_avOi",
        "outputId": "864552c6-91c6-4773-a5ed-c3c1bb98b17f"
      },
      "outputs": [
        {
          "output_type": "stream",
          "name": "stdout",
          "text": [
            "var1 변수의 데이터 타입은  <class 'int'>\n",
            "var2 변수의 데이터 타입은  <class 'float'>\n",
            "var3 변수의 데이터 타입은  <class 'str'>\n",
            "var4 변수의 데이터 타입은  <class 'bool'>\n"
          ]
        }
      ],
      "source": [
        "var1, var2, var3, var4 = 100, 3.14, \"안산공고\", True\n",
        "print(\"var1 변수의 데이터 타입은 \" ,type(var1))\n",
        "print(\"var2 변수의 데이터 타입은 \" ,type(var2))\n",
        "print(\"var3 변수의 데이터 타입은 \" ,type(var3))\n",
        "print(\"var4 변수의 데이터 타입은 \" ,type(var4))\n"
      ]
    },
    {
      "cell_type": "code",
      "source": [],
      "metadata": {
        "id": "hQW1yH74pyd7"
      },
      "execution_count": null,
      "outputs": []
    },
    {
      "cell_type": "code",
      "source": [
        "print(\"|n 줄바꿈|n 연습\")\n",
        "print(\"|t탭키|t 연습\")\n",
        "print(\"어떤 글자를 |\"강조|\"하는 효과1\")\n",
        "print(\"어떤 글자를 |\"강조|\"하는 효과2\")\n",
        "print(\"|||| 백슬래시 2개 출력\")\n"
      ],
      "metadata": {
        "colab": {
          "base_uri": "https://localhost:8080/",
          "height": 137
        },
        "id": "qkA4LI_njASl",
        "outputId": "fa5e53ec-e941-4e5c-a6b1-bbe390d0d830"
      },
      "execution_count": 5,
      "outputs": [
        {
          "output_type": "error",
          "ename": "SyntaxError",
          "evalue": "ignored",
          "traceback": [
            "\u001b[0;36m  File \u001b[0;32m\"<ipython-input-5-49ce7061b304>\"\u001b[0;36m, line \u001b[0;32m3\u001b[0m\n\u001b[0;31m    print(\"어떤 글자를 |\"강조|\"하는 효과1\")\u001b[0m\n\u001b[0m                     ^\u001b[0m\n\u001b[0;31mSyntaxError\u001b[0m\u001b[0;31m:\u001b[0m invalid syntax\n"
          ]
        }
      ]
    },
    {
      "cell_type": "code",
      "source": [
        "var1 = input(\"첫 번째 문자열 ==>\")\n",
        "var2 = input(\"두 번째 문자열 ==>\")\n",
        "\n",
        "len1 = len(var1)\n",
        "len2 = len(var2)\n",
        "\n",
        "diff = len1 - len2\n",
        "\n",
        "print(\"두 문자열의 길이 차이는\"), diff, \"입니다.\""
      ],
      "metadata": {
        "id": "2apu07-cl13f"
      },
      "execution_count": null,
      "outputs": []
    },
    {
      "cell_type": "code",
      "source": [
        "str1 = input(\"문자열 입력 : \")\n",
        "print(\"입력된 문자열의 길이 : \", len(str1))\n",
        "print(\"입력된 문자열을 대문자로 변환 : \", str1.upper())\n",
        "print(\"입력된 문자열을 소문자로 변환 : \", str1.lower())\n",
        "print(\"입력된 문자열 중 ansan 몇번 나오는지 : \", str1.count(\"ansan\"))\n",
        "print(\"입력된 문자열은 대문자인가요? \", str1.isupper())\n",
        "print(\"입력된 문자열은 소문자인가요? \", str1.islower())"
      ],
      "metadata": {
        "colab": {
          "base_uri": "https://localhost:8080/"
        },
        "id": "NFB_QlQBpzgi",
        "outputId": "50bfda73-3f50-4bb2-995c-1edf36c87e10"
      },
      "execution_count": 15,
      "outputs": [
        {
          "output_type": "stream",
          "name": "stdout",
          "text": [
            "문자열 입력 : Ansan Technical High School, Ansan-Si, Ansan lake\n",
            "입력된 문자열의 길이 :  49\n",
            "입력된 문자열을 대문자로 변환 :  ANSAN TECHNICAL HIGH SCHOOL, ANSAN-SI, ANSAN LAKE\n",
            "입력된 문자열을 소문자로 변환 :  ansan technical high school, ansan-si, ansan lake\n",
            "입력된 문자열 중 ansan 몇번 나오는지 :  0\n",
            "입력된 문자열은 대문자인가요?  False\n",
            "입력된 문자열은 소문자인가요?  False\n"
          ]
        }
      ]
    },
    {
      "cell_type": "code",
      "source": [
        "\n",
        "lyrics = \"\"\" \n",
        "     When I find myself in times of trouble \n",
        "     Mother Mary comes to me Speaking words of wisdom \n",
        "     Let it be And in my hour of darkness She is standing \n",
        "     right in front of me Speaking words of wisdom \n",
        "     Let it be Let is be, let it be Let it be, let it be \n",
        "     Whisper words of wisdom Let it be And when the brokenhearted people \n",
        "     Living in the world agree There will be an answer Let it be \n",
        "     For though they may be parted There is still a chance that \n",
        "     they will see There will be an answer Let it be Let is be, \n",
        "     let it be Let it be, let it be Yeah, there will be an answer \n",
        "     Let it be Let is be, let it be Let it be, let it be \n",
        "     Whisper words of wisdom Let it be Let is be, let it be \n",
        "     Let it be, yeah, let it be Whisper words of wisdom Let it be \n",
        "     And when the night is cloudy There is still a light that \n",
        "     shines on me Shine on 'til tomorrow Let it be \n",
        "     I wake up to the sound of music Mother Mary comes to me \n",
        "     Speaking words of wisdom Let it be, yeah Let it be, let it be \n",
        "     Let it be, yeah, let it be Oh, there will be an answer \n",
        "     Let it be Let it be, let it be Let it be, yeah, let it be \n",
        "     Whisper words of wisdom Let it be\n",
        "     \"\"\"\n",
        "\n",
        "count = lyrics.upper()\n",
        "count = count.count(\"LET IT BE\")\n",
        "print(\"Let it be 는 총 \",count ,\"번 나옵니다.\")"
      ],
      "metadata": {
        "colab": {
          "base_uri": "https://localhost:8080/"
        },
        "id": "Oivq9hKWw304",
        "outputId": "e65e86e8-41a2-456d-da41-88ed197c6a9c"
      },
      "execution_count": 14,
      "outputs": [
        {
          "output_type": "stream",
          "name": "stdout",
          "text": [
            "Let it be 는 총  32 번 나옵니다.\n"
          ]
        }
      ]
    },
    {
      "cell_type": "code",
      "source": [
        "str1 = \"안산공고 컴퓨터과 파이썬 수업\"\n",
        "print(str1[0])\n",
        "print(str1[0:4])\n",
        "print(str1[10:14])\n",
        "print(str1[:14])\n",
        "print(str1[0:])\n",
        "print(str1[-1])"
      ],
      "metadata": {
        "colab": {
          "base_uri": "https://localhost:8080/"
        },
        "id": "pf9GZns8ziGq",
        "outputId": "ff276ce2-574c-4511-ed90-8b80d5e4942a"
      },
      "execution_count": 13,
      "outputs": [
        {
          "output_type": "stream",
          "name": "stdout",
          "text": [
            "안\n",
            "안산공고\n",
            "파이썬 \n",
            "안산공고 컴퓨터과 파이썬 \n",
            "안산공고 컴퓨터과 파이썬 수업\n",
            "업\n"
          ]
        }
      ]
    },
    {
      "cell_type": "markdown",
      "source": [
        "원본 문자열 ==> 트와이스\n",
        "반대 문자열 ==> 스이와트"
      ],
      "metadata": {
        "id": "YRxVY1Xc3MXJ"
      }
    },
    {
      "cell_type": "code",
      "source": [
        "singer = input(\"가수 이름을 입력 : \")\n",
        "singer_length = len(singer)\n",
        "#print(singer_length)\n",
        "r_singer= \"\"\n",
        "while singer_length > 0 :\n",
        "  r_singer = r_singer + singer[singer_length-1]\n",
        "  singer_length = singer_length -1\n",
        "print(r_singer) "
      ],
      "metadata": {
        "colab": {
          "base_uri": "https://localhost:8080/"
        },
        "id": "sQh3LkPc3NQ4",
        "outputId": "1a376642-379e-48b8-c98c-c6af50f98290"
      },
      "execution_count": 11,
      "outputs": [
        {
          "output_type": "stream",
          "name": "stdout",
          "text": [
            "가수 이름을 입력 : 르세라핌\n",
            "핌라세르\n"
          ]
        }
      ]
    },
    {
      "cell_type": "code",
      "source": [],
      "metadata": {
        "id": "Y-tSDiT94I-i"
      },
      "execution_count": null,
      "outputs": []
    }
  ]
}