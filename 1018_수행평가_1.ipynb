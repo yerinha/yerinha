{
  "nbformat": 4,
  "nbformat_minor": 0,
  "metadata": {
    "colab": {
      "provenance": [],
      "authorship_tag": "ABX9TyOuxxCvtGTO2V+j8cKfQ79P",
      "include_colab_link": true
    },
    "kernelspec": {
      "name": "python3",
      "display_name": "Python 3"
    },
    "language_info": {
      "name": "python"
    }
  },
  "cells": [
    {
      "cell_type": "markdown",
      "metadata": {
        "id": "view-in-github",
        "colab_type": "text"
      },
      "source": [
        "<a href=\"https://colab.research.google.com/github/yerinha/yerinha/blob/main/1018_%EC%88%98%ED%96%89%ED%8F%89%EA%B0%80_1.ipynb\" target=\"_parent\"><img src=\"https://colab.research.google.com/assets/colab-badge.svg\" alt=\"Open In Colab\"/></a>"
      ]
    },
    {
      "cell_type": "code",
      "source": [
        "x=int(input(\"정수 x=\"))\n",
        "\n",
        "if(x%2==1):\n",
        "    print(\"홀수입니다.\")\n",
        "else:\n",
        "    print(\"짝수입니다.\")"
      ],
      "metadata": {
        "colab": {
          "base_uri": "https://localhost:8080/"
        },
        "id": "vYYT3au1c9Kd",
        "outputId": "74d8b8ea-cdde-4c15-be1e-ddf4c3cf8b30"
      },
      "execution_count": 9,
      "outputs": [
        {
          "output_type": "stream",
          "name": "stdout",
          "text": [
            "정수 x=20\n",
            "짝수입니다.\n"
          ]
        }
      ]
    },
    {
      "cell_type": "code",
      "source": [
        "a = int(input(\"숫자를 입력하세요 : \"))\n",
        "if a < 100:\n",
        "    print(\"100보다 작습니다\")\n",
        "\n",
        "if 100 <= a <= 1000 :\n",
        "    print(\"100에서 1000사이다\")\n",
        "\n",
        "if a > 1000:\n",
        "    print(\"1000보다 크다\")"
      ],
      "metadata": {
        "colab": {
          "base_uri": "https://localhost:8080/"
        },
        "id": "RMWYXXOZeP2c",
        "outputId": "fb3a0701-94c2-47d4-89ff-ad0cccf30411"
      },
      "execution_count": 14,
      "outputs": [
        {
          "output_type": "stream",
          "name": "stdout",
          "text": [
            "숫자를 입력하세요 : 250\n",
            "100에서 1000사이다\n"
          ]
        }
      ]
    },
    {
      "cell_type": "code",
      "source": [
        "score1=int(input('점수1: '))\n",
        "result=score1\n",
        "if result>=90:\n",
        "    print(\"A\")\n",
        "elif result>=80:\n",
        "    print(\"B\")\n",
        "elif result>=70:\n",
        "    print(\"C\")\n",
        "elif result>=60:\n",
        "    print(\"D\")\n",
        "else:\n",
        "    print(\"F\")"
      ],
      "metadata": {
        "colab": {
          "base_uri": "https://localhost:8080/"
        },
        "id": "1PDVQgs7gCt1",
        "outputId": "ff1a06ac-1318-4ae0-d79d-a124655a3525"
      },
      "execution_count": 17,
      "outputs": [
        {
          "output_type": "stream",
          "name": "stdout",
          "text": [
            "점수1: 90\n",
            "A\n"
          ]
        }
      ]
    },
    {
      "cell_type": "code",
      "source": [
        "import random\n",
        "\n",
        "print('가위 바위 보 게임')\n",
        "print('가위 바위 보를 하는 게임 입니다.')\n",
        "\n",
        "computer = random.choice(['가위', '바위', '보'])\n",
        "player = input('가위 바위 보 중 하나를 입력하세요: ')\n",
        "\n",
        "if computer == '가위':\n",
        "    print('컴퓨터는 가위를 냈습니다.')\n",
        "    if player == '가위':\n",
        "        print('플레이어는 가위를 냈습니다.')\n",
        "        print('무승부')\n",
        "    elif player == '바위':\n",
        "        print('플레이어는 바위를 냈습니다.')\n",
        "        print('플레이어 승리')   \n",
        "    elif player == '보':\n",
        "        print('플레이어는 보를 냈습니다.')\n",
        "        print('컴퓨터 승리')\n",
        "elif computer == '바위':\n",
        "    print('컴퓨터는 바위를 냈습니다.')\n",
        "    if player == '가위':\n",
        "        print('플레이어는 가위를 냈습니다.')\n",
        "        print('컴퓨터 승리')\n",
        "    elif player == '바위':\n",
        "        print('플레이어는 바위를 냈습니다.')\n",
        "        print('무승부')\n",
        "    elif player == '보':\n",
        "        print('플레이어는 보를 냈습니다.')\n",
        "        print('플레이어 승리')\n",
        "elif computer == '보':\n",
        "    print('컴퓨터는 보를 냈습니다.')\n",
        "    if player == '가위':\n",
        "        print('플레이어는 가위를 냈습니다.')\n",
        "        print('플레이어 승리')\n",
        "    elif player == '바위':\n",
        "        print('플레이어는 바위를 냈습니다.')\n",
        "        print('컴퓨터 승리') \n",
        "    elif player == '보':\n",
        "        print('플레이어는 보를 냈습니다.')\n",
        "        print('무승부')"
      ],
      "metadata": {
        "colab": {
          "base_uri": "https://localhost:8080/"
        },
        "id": "b7zzJghGh7S-",
        "outputId": "fe022ae2-66c4-4d2c-abcf-92cc983001e1"
      },
      "execution_count": 19,
      "outputs": [
        {
          "output_type": "stream",
          "name": "stdout",
          "text": [
            "가위 바위 보 게임\n",
            "가위 바위 보를 하는 게임 입니다.\n",
            "가위 바위 보 중 하나를 입력하세요: 가위\n",
            "컴퓨터는 보를 냈습니다.\n",
            "플레이어는 가위를 냈습니다.\n",
            "플레이어 승리\n"
          ]
        }
      ]
    }
  ]
}