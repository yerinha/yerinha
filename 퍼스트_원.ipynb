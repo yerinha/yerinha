{
  "nbformat": 4,
  "nbformat_minor": 0,
  "metadata": {
    "colab": {
      "name": "퍼스트 원",
      "provenance": [],
      "authorship_tag": "ABX9TyNQEPT73BuFWuJPxOa5D/ff",
      "include_colab_link": true
    },
    "kernelspec": {
      "name": "python3",
      "display_name": "Python 3"
    },
    "language_info": {
      "name": "python"
    }
  },
  "cells": [
    {
      "cell_type": "markdown",
      "metadata": {
        "id": "view-in-github",
        "colab_type": "text"
      },
      "source": [
        "<a href=\"https://colab.research.google.com/github/yerinha/yerinha/blob/main/%ED%8D%BC%EC%8A%A4%ED%8A%B8_%EC%9B%90.ipynb\" target=\"_parent\"><img src=\"https://colab.research.google.com/assets/colab-badge.svg\" alt=\"Open In Colab\"/></a>"
      ]
    },
    {
      "cell_type": "code",
      "execution_count": null,
      "metadata": {
        "id": "6vpToksXOyh-"
      },
      "outputs": [],
      "source": [
        "나의 첫 파이썬 프로그래밍\n"
      ]
    },
    {
      "cell_type": "code",
      "source": [
        "printf(\"컴퓨터과 3학년 2반 하예린\")"
      ],
      "metadata": {
        "id": "l_zy4ZyoPhZZ"
      },
      "execution_count": null,
      "outputs": []
    },
    {
      "cell_type": "markdown",
      "source": [
        ""
      ],
      "metadata": {
        "id": "Pf3gzfXIPgxq"
      }
    }
  ]
}